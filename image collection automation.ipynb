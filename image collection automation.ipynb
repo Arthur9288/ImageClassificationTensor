{
 "cells": [
  {
   "cell_type": "code",
   "execution_count": 5,
   "id": "6b235a4c",
   "metadata": {},
   "outputs": [],
   "source": [
    "#Start position\n",
    "\"-6.309284523573208, -59.99177040794866\"\n",
    "#end position\n",
    "\"-6.325497707903225, -59.97511525965309\"\n",
    "\n",
    "#Start position x and y\n",
    "coordinateV1 = -6.309284533573208\n",
    "coordinateH1 = -59.99179040794866\n",
    "\n",
    "#end positions x and y\n",
    "coordinateV2 = -6.365499707903225\n",
    "coordinateH2 = -59.97511525965309"
   ]
  },
  {
   "cell_type": "code",
   "execution_count": 6,
   "id": "2ce09adc",
   "metadata": {
    "scrolled": false
   },
   "outputs": [
    {
     "name": "stdout",
     "output_type": "stream",
     "text": [
      "Requirement already satisfied: pyautogui in c:\\users\\arthu\\anaconda3\\lib\\site-packages (0.9.53)\n",
      "Requirement already satisfied: pygetwindow>=0.0.5 in c:\\users\\arthu\\anaconda3\\lib\\site-packages (from pyautogui) (0.0.9)\n",
      "Requirement already satisfied: mouseinfo in c:\\users\\arthu\\anaconda3\\lib\\site-packages (from pyautogui) (0.1.3)\n",
      "Requirement already satisfied: pymsgbox in c:\\users\\arthu\\anaconda3\\lib\\site-packages (from pyautogui) (1.0.9)\n",
      "Requirement already satisfied: PyTweening>=1.0.1 in c:\\users\\arthu\\anaconda3\\lib\\site-packages (from pyautogui) (1.0.4)\n",
      "Requirement already satisfied: pyscreeze>=0.1.21 in c:\\users\\arthu\\anaconda3\\lib\\site-packages (from pyautogui) (0.1.28)\n",
      "Requirement already satisfied: pyrect in c:\\users\\arthu\\anaconda3\\lib\\site-packages (from pygetwindow>=0.0.5->pyautogui) (0.2.0)\n",
      "Requirement already satisfied: pyperclip in c:\\users\\arthu\\anaconda3\\lib\\site-packages (from mouseinfo->pyautogui) (1.8.2)\n",
      "Requirement already satisfied: pyperclip in c:\\users\\arthu\\anaconda3\\lib\\site-packages (1.8.2)\n"
     ]
    },
    {
     "name": "stderr",
     "output_type": "stream",
     "text": [
      "ERROR: Could not find a version that satisfies the requirement time (from versions: none)\n",
      "ERROR: No matching distribution found for time\n"
     ]
    }
   ],
   "source": [
    "!pip install pyautogui\n",
    "!pip install pyperclip\n",
    "!pip install time"
   ]
  },
  {
   "cell_type": "code",
   "execution_count": 7,
   "id": "0ef11c56",
   "metadata": {},
   "outputs": [],
   "source": [
    "import sys\n",
    "sys.path.append(r\"c:\\users\\arthu\\anaconda3\\lib\\site-packages\")"
   ]
  },
  {
   "cell_type": "code",
   "execution_count": 8,
   "id": "bdf5d00e",
   "metadata": {},
   "outputs": [],
   "source": [
    "import pyautogui\n",
    "import pyperclip\n",
    "import time\n",
    "from PIL import Image\n",
    "import os"
   ]
  },
  {
   "cell_type": "code",
   "execution_count": 28,
   "id": "022e14e0",
   "metadata": {
    "scrolled": false
   },
   "outputs": [
    {
     "ename": "KeyboardInterrupt",
     "evalue": "",
     "output_type": "error",
     "traceback": [
      "\u001b[1;31m---------------------------------------------------------------------------\u001b[0m",
      "\u001b[1;31mKeyboardInterrupt\u001b[0m                         Traceback (most recent call last)",
      "Cell \u001b[1;32mIn[28], line 26\u001b[0m\n\u001b[0;32m     24\u001b[0m time\u001b[38;5;241m.\u001b[39msleep(\u001b[38;5;241m5\u001b[39m)\n\u001b[0;32m     25\u001b[0m pyautogui\u001b[38;5;241m.\u001b[39mclick(x\u001b[38;5;241m=\u001b[39m\u001b[38;5;241m1853\u001b[39m, y\u001b[38;5;241m=\u001b[39m\u001b[38;5;241m178\u001b[39m)\n\u001b[1;32m---> 26\u001b[0m \u001b[43mtime\u001b[49m\u001b[38;5;241;43m.\u001b[39;49m\u001b[43msleep\u001b[49m\u001b[43m(\u001b[49m\u001b[38;5;241;43m2\u001b[39;49m\u001b[43m)\u001b[49m\n\u001b[0;32m     28\u001b[0m \u001b[38;5;66;03m#PRINTSCREEN\u001b[39;00m\n\u001b[0;32m     29\u001b[0m pyautogui\u001b[38;5;241m.\u001b[39mscreenshot(\u001b[38;5;124m'\u001b[39m\u001b[38;5;124mscreenshot\u001b[39m\u001b[38;5;124m'\u001b[39m\u001b[38;5;241m+\u001b[39m\u001b[38;5;28mstr\u001b[39m(count)\u001b[38;5;241m+\u001b[39m\u001b[38;5;124m'\u001b[39m\u001b[38;5;124m.png\u001b[39m\u001b[38;5;124m'\u001b[39m)\n",
      "\u001b[1;31mKeyboardInterrupt\u001b[0m: "
     ]
    }
   ],
   "source": [
    "coordinatecursorH = coordinateH1\n",
    "coordinatecursorV = coordinateV1\n",
    "\n",
    "count = 0\n",
    "finished = 1\n",
    "pyautogui.PAUSE = 1\n",
    "\n",
    "pyautogui.hotkey(\"ctrl\", \"t\")\n",
    "pyperclip.copy('https://earth.google.com/')\n",
    "pyautogui.hotkey(\"ctrl\", \"v\")\n",
    "pyautogui.hotkey('enter')\n",
    "\n",
    "#SEARCH WHILE INSIDE DELIMITED AREA\n",
    "while finished == 1:\n",
    "    while coordinatecursorH <= coordinateH2:\n",
    "        \n",
    "        #OPEN AND SEARCH FOR THE COODINATE\n",
    "        time.sleep(2)\n",
    "        pyautogui.click(x=31, y=227)\n",
    "        time.sleep(2)\n",
    "        pyperclip.copy(str(coordinatecursorV)+', '+str(coordinatecursorH))\n",
    "        pyautogui.hotkey(\"ctrl\", \"v\")\n",
    "        pyautogui.hotkey('enter')\n",
    "        time.sleep(5)\n",
    "        pyautogui.click(x=1853, y=178)\n",
    "        time.sleep(2)\n",
    "        \n",
    "        #PRINTSCREEN\n",
    "        pyautogui.screenshot('screenshot'+str(count)+'.png')\n",
    "        img = Image.open('screenshot'+str(count)+'.png')\n",
    "        cropped_img = img.crop((173, 138, 1746, 981))\n",
    "        cropped_img.save('img'+str(count)+'.png')\n",
    "        src = r'C:\\Users\\arthu\\AutoSatelliteImagCollection\\img'+str(count)+'.png' #'/path/to/source/file.txt'\n",
    "        dst = r'C:\\Users\\arthu\\ImageClassification-main\\printsentrance\\img'+str(count)+'.png' #'/path/to/destination/file.txt'\n",
    "        os.rename(src, dst)\n",
    "        \n",
    "        #UPDATE COORDINATE\n",
    "        coordinatecursorH += 0.0042\n",
    "        count+=1\n",
    "        if coordinatecursorH >= coordinateH2:\n",
    "            coordinatecursorV += -0.0038\n",
    "            coordinatecursorH = coordinateH1\n",
    "        if coordinatecursorV <= coordinateV2:\n",
    "            finished = 0"
   ]
  },
  {
   "cell_type": "code",
   "execution_count": 34,
   "id": "05255a62",
   "metadata": {},
   "outputs": [],
   "source": [
    "#CONVERT PNG PRINTS TO JPG\n",
    "from PIL import Image\n",
    "import os\n",
    "\n",
    "# Path of the directory containing the PNG images\n",
    "png_dir = r'C:\\Users\\arthu\\ImageClassification-main\\printsentrance'\n",
    "\n",
    "# Path of the directory where the converted JPEG images will be saved\n",
    "jpeg_dir = r'C:\\Users\\arthu\\ImageClassification-main'\n",
    "\n",
    "# Loop through all the PNG images in the directory\n",
    "for filename in os.listdir(png_dir):\n",
    "    if filename.endswith('.png'):\n",
    "        \n",
    "        # Open the PN\\G image using PIL\n",
    "        png_path = os.path.join(png_dir, filename)\n",
    "        png_img = Image.open(png_path)\n",
    "\n",
    "        # Convert the image to JPEG format and save it\n",
    "        jpeg_path = os.path.join(jpeg_dir, filename[:-4] + '.jpg')\n",
    "        png_img.convert('RGB').save(jpeg_path, 'JPEG')"
   ]
  }
 ],
 "metadata": {
  "kernelspec": {
   "display_name": "satelite",
   "language": "python",
   "name": "satelite"
  },
  "language_info": {
   "codemirror_mode": {
    "name": "ipython",
    "version": 3
   },
   "file_extension": ".py",
   "mimetype": "text/x-python",
   "name": "python",
   "nbconvert_exporter": "python",
   "pygments_lexer": "ipython3",
   "version": "3.9.13"
  }
 },
 "nbformat": 4,
 "nbformat_minor": 5
}
